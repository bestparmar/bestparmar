{
 "cells": [
  {
   "cell_type": "code",
   "execution_count": 1,
   "id": "355a431b",
   "metadata": {},
   "outputs": [],
   "source": [
    "# Import basic package\n",
    "import os\n",
    "import numpy as np\n",
    "import pandas as pd\n",
    "import matplotlib.pyplot as plt\n",
    "%matplotlib inline\n",
    "import seaborn as sns\n",
    "sns.set()\n",
    "\n",
    "import warnings\n",
    "warnings.filterwarnings('ignore')"
   ]
  },
  {
   "cell_type": "code",
   "execution_count": 2,
   "id": "bf917924",
   "metadata": {},
   "outputs": [
    {
     "data": {
      "text/html": [
       "<div>\n",
       "<style scoped>\n",
       "    .dataframe tbody tr th:only-of-type {\n",
       "        vertical-align: middle;\n",
       "    }\n",
       "\n",
       "    .dataframe tbody tr th {\n",
       "        vertical-align: top;\n",
       "    }\n",
       "\n",
       "    .dataframe thead th {\n",
       "        text-align: right;\n",
       "    }\n",
       "</style>\n",
       "<table border=\"1\" class=\"dataframe\">\n",
       "  <thead>\n",
       "    <tr style=\"text-align: right;\">\n",
       "      <th></th>\n",
       "      <th>Unnamed: 0</th>\n",
       "      <th>Labels</th>\n",
       "      <th>Message</th>\n",
       "    </tr>\n",
       "  </thead>\n",
       "  <tbody>\n",
       "    <tr>\n",
       "      <th>0</th>\n",
       "      <td>0</td>\n",
       "      <td>ham</td>\n",
       "      <td>go jurong point crazy available bugis n great ...</td>\n",
       "    </tr>\n",
       "    <tr>\n",
       "      <th>1</th>\n",
       "      <td>1</td>\n",
       "      <td>ham</td>\n",
       "      <td>ok lar joking wif u oni</td>\n",
       "    </tr>\n",
       "    <tr>\n",
       "      <th>2</th>\n",
       "      <td>2</td>\n",
       "      <td>spam</td>\n",
       "      <td>free entry wkly comp win fa cup final tkts st ...</td>\n",
       "    </tr>\n",
       "    <tr>\n",
       "      <th>3</th>\n",
       "      <td>3</td>\n",
       "      <td>ham</td>\n",
       "      <td>u dun say early hor u c already say</td>\n",
       "    </tr>\n",
       "    <tr>\n",
       "      <th>4</th>\n",
       "      <td>4</td>\n",
       "      <td>ham</td>\n",
       "      <td>nah think go usf life around though</td>\n",
       "    </tr>\n",
       "  </tbody>\n",
       "</table>\n",
       "</div>"
      ],
      "text/plain": [
       "   Unnamed: 0 Labels                                            Message\n",
       "0           0    ham  go jurong point crazy available bugis n great ...\n",
       "1           1    ham                            ok lar joking wif u oni\n",
       "2           2   spam  free entry wkly comp win fa cup final tkts st ...\n",
       "3           3    ham                u dun say early hor u c already say\n",
       "4           4    ham                nah think go usf life around though"
      ]
     },
     "execution_count": 2,
     "metadata": {},
     "output_type": "execute_result"
    }
   ],
   "source": [
    "df = pd.read_csv('spams.csv')\n",
    "df.head()"
   ]
  },
  {
   "cell_type": "code",
   "execution_count": 3,
   "id": "344fb89d",
   "metadata": {},
   "outputs": [
    {
     "data": {
      "text/html": [
       "<div>\n",
       "<style scoped>\n",
       "    .dataframe tbody tr th:only-of-type {\n",
       "        vertical-align: middle;\n",
       "    }\n",
       "\n",
       "    .dataframe tbody tr th {\n",
       "        vertical-align: top;\n",
       "    }\n",
       "\n",
       "    .dataframe thead th {\n",
       "        text-align: right;\n",
       "    }\n",
       "</style>\n",
       "<table border=\"1\" class=\"dataframe\">\n",
       "  <thead>\n",
       "    <tr style=\"text-align: right;\">\n",
       "      <th></th>\n",
       "      <th>Labels</th>\n",
       "      <th>Message</th>\n",
       "    </tr>\n",
       "  </thead>\n",
       "  <tbody>\n",
       "    <tr>\n",
       "      <th>0</th>\n",
       "      <td>ham</td>\n",
       "      <td>go jurong point crazy available bugis n great ...</td>\n",
       "    </tr>\n",
       "    <tr>\n",
       "      <th>1</th>\n",
       "      <td>ham</td>\n",
       "      <td>ok lar joking wif u oni</td>\n",
       "    </tr>\n",
       "    <tr>\n",
       "      <th>2</th>\n",
       "      <td>spam</td>\n",
       "      <td>free entry wkly comp win fa cup final tkts st ...</td>\n",
       "    </tr>\n",
       "    <tr>\n",
       "      <th>3</th>\n",
       "      <td>ham</td>\n",
       "      <td>u dun say early hor u c already say</td>\n",
       "    </tr>\n",
       "    <tr>\n",
       "      <th>4</th>\n",
       "      <td>ham</td>\n",
       "      <td>nah think go usf life around though</td>\n",
       "    </tr>\n",
       "  </tbody>\n",
       "</table>\n",
       "</div>"
      ],
      "text/plain": [
       "  Labels                                            Message\n",
       "0    ham  go jurong point crazy available bugis n great ...\n",
       "1    ham                            ok lar joking wif u oni\n",
       "2   spam  free entry wkly comp win fa cup final tkts st ...\n",
       "3    ham                u dun say early hor u c already say\n",
       "4    ham                nah think go usf life around though"
      ]
     },
     "execution_count": 3,
     "metadata": {},
     "output_type": "execute_result"
    }
   ],
   "source": [
    "df = df.iloc[:,1:]\n",
    "df.head()"
   ]
  },
  {
   "cell_type": "code",
   "execution_count": 4,
   "id": "5253a6a1",
   "metadata": {},
   "outputs": [
    {
     "data": {
      "text/plain": [
       "Labels     0\n",
       "Message    8\n",
       "dtype: int64"
      ]
     },
     "execution_count": 4,
     "metadata": {},
     "output_type": "execute_result"
    }
   ],
   "source": [
    "df.isnull().sum()"
   ]
  },
  {
   "cell_type": "code",
   "execution_count": 5,
   "id": "5b04dd39",
   "metadata": {},
   "outputs": [],
   "source": [
    "newdf = df.dropna()"
   ]
  },
  {
   "cell_type": "code",
   "execution_count": 6,
   "id": "03d4ef70",
   "metadata": {},
   "outputs": [
    {
     "data": {
      "text/plain": [
       "Labels     0\n",
       "Message    0\n",
       "dtype: int64"
      ]
     },
     "execution_count": 6,
     "metadata": {},
     "output_type": "execute_result"
    }
   ],
   "source": [
    "newdf.isnull().sum()"
   ]
  },
  {
   "cell_type": "code",
   "execution_count": 7,
   "id": "c878471a",
   "metadata": {},
   "outputs": [
    {
     "data": {
      "text/html": [
       "<div>\n",
       "<style scoped>\n",
       "    .dataframe tbody tr th:only-of-type {\n",
       "        vertical-align: middle;\n",
       "    }\n",
       "\n",
       "    .dataframe tbody tr th {\n",
       "        vertical-align: top;\n",
       "    }\n",
       "\n",
       "    .dataframe thead th {\n",
       "        text-align: right;\n",
       "    }\n",
       "</style>\n",
       "<table border=\"1\" class=\"dataframe\">\n",
       "  <thead>\n",
       "    <tr style=\"text-align: right;\">\n",
       "      <th></th>\n",
       "      <th>Labels</th>\n",
       "      <th>Message</th>\n",
       "    </tr>\n",
       "  </thead>\n",
       "  <tbody>\n",
       "    <tr>\n",
       "      <th>0</th>\n",
       "      <td>ham</td>\n",
       "      <td>go jurong point crazy available bugis n great ...</td>\n",
       "    </tr>\n",
       "    <tr>\n",
       "      <th>1</th>\n",
       "      <td>ham</td>\n",
       "      <td>ok lar joking wif u oni</td>\n",
       "    </tr>\n",
       "    <tr>\n",
       "      <th>2</th>\n",
       "      <td>spam</td>\n",
       "      <td>free entry wkly comp win fa cup final tkts st ...</td>\n",
       "    </tr>\n",
       "    <tr>\n",
       "      <th>3</th>\n",
       "      <td>ham</td>\n",
       "      <td>u dun say early hor u c already say</td>\n",
       "    </tr>\n",
       "    <tr>\n",
       "      <th>4</th>\n",
       "      <td>ham</td>\n",
       "      <td>nah think go usf life around though</td>\n",
       "    </tr>\n",
       "  </tbody>\n",
       "</table>\n",
       "</div>"
      ],
      "text/plain": [
       "  Labels                                            Message\n",
       "0    ham  go jurong point crazy available bugis n great ...\n",
       "1    ham                            ok lar joking wif u oni\n",
       "2   spam  free entry wkly comp win fa cup final tkts st ...\n",
       "3    ham                u dun say early hor u c already say\n",
       "4    ham                nah think go usf life around though"
      ]
     },
     "execution_count": 7,
     "metadata": {},
     "output_type": "execute_result"
    }
   ],
   "source": [
    "newdf.head()"
   ]
  },
  {
   "cell_type": "code",
   "execution_count": 8,
   "id": "7106b30e",
   "metadata": {},
   "outputs": [
    {
     "data": {
      "text/plain": [
       "ham     4817\n",
       "spam     747\n",
       "Name: Labels, dtype: int64"
      ]
     },
     "execution_count": 8,
     "metadata": {},
     "output_type": "execute_result"
    }
   ],
   "source": [
    "newdf['Labels'].value_counts()"
   ]
  },
  {
   "cell_type": "code",
   "execution_count": 17,
   "id": "6b936c09",
   "metadata": {},
   "outputs": [
    {
     "data": {
      "text/plain": [
       "(5564, 2)"
      ]
     },
     "execution_count": 17,
     "metadata": {},
     "output_type": "execute_result"
    }
   ],
   "source": [
    "newdf.shape"
   ]
  },
  {
   "cell_type": "markdown",
   "id": "61d46fdc",
   "metadata": {},
   "source": [
    "# Handling imbalance dataset by using oversampling method"
   ]
  },
  {
   "cell_type": "code",
   "execution_count": 9,
   "id": "48c2537e",
   "metadata": {},
   "outputs": [],
   "source": [
    "ham = newdf[newdf['Labels']=='ham']\n",
    "spam = newdf[newdf['Labels']=='spam']"
   ]
  },
  {
   "cell_type": "code",
   "execution_count": 10,
   "id": "4003d5b2",
   "metadata": {},
   "outputs": [
    {
     "data": {
      "text/plain": [
       "((4817, 2), (747, 2))"
      ]
     },
     "execution_count": 10,
     "metadata": {},
     "output_type": "execute_result"
    }
   ],
   "source": [
    "ham.shape, spam.shape"
   ]
  },
  {
   "cell_type": "code",
   "execution_count": 13,
   "id": "b380fae2",
   "metadata": {},
   "outputs": [],
   "source": [
    "spam = spam.sample(ham.shape[0], replace=True)"
   ]
  },
  {
   "cell_type": "code",
   "execution_count": 14,
   "id": "f1ea9c16",
   "metadata": {},
   "outputs": [
    {
     "data": {
      "text/plain": [
       "((4817, 2), (4817, 2))"
      ]
     },
     "execution_count": 14,
     "metadata": {},
     "output_type": "execute_result"
    }
   ],
   "source": [
    "ham.shape, spam.shape"
   ]
  },
  {
   "cell_type": "code",
   "execution_count": 11,
   "id": "4ebd74ef",
   "metadata": {},
   "outputs": [
    {
     "data": {
      "text/plain": [
       "4817"
      ]
     },
     "execution_count": 11,
     "metadata": {},
     "output_type": "execute_result"
    }
   ],
   "source": [
    "ham.shape[0]"
   ]
  },
  {
   "cell_type": "code",
   "execution_count": 15,
   "id": "98a38e5e",
   "metadata": {},
   "outputs": [
    {
     "data": {
      "text/html": [
       "<div>\n",
       "<style scoped>\n",
       "    .dataframe tbody tr th:only-of-type {\n",
       "        vertical-align: middle;\n",
       "    }\n",
       "\n",
       "    .dataframe tbody tr th {\n",
       "        vertical-align: top;\n",
       "    }\n",
       "\n",
       "    .dataframe thead th {\n",
       "        text-align: right;\n",
       "    }\n",
       "</style>\n",
       "<table border=\"1\" class=\"dataframe\">\n",
       "  <thead>\n",
       "    <tr style=\"text-align: right;\">\n",
       "      <th></th>\n",
       "      <th>Labels</th>\n",
       "      <th>Message</th>\n",
       "    </tr>\n",
       "  </thead>\n",
       "  <tbody>\n",
       "    <tr>\n",
       "      <th>0</th>\n",
       "      <td>ham</td>\n",
       "      <td>go jurong point crazy available bugis n great ...</td>\n",
       "    </tr>\n",
       "    <tr>\n",
       "      <th>1</th>\n",
       "      <td>ham</td>\n",
       "      <td>ok lar joking wif u oni</td>\n",
       "    </tr>\n",
       "    <tr>\n",
       "      <th>2</th>\n",
       "      <td>ham</td>\n",
       "      <td>u dun say early hor u c already say</td>\n",
       "    </tr>\n",
       "    <tr>\n",
       "      <th>3</th>\n",
       "      <td>ham</td>\n",
       "      <td>nah think go usf life around though</td>\n",
       "    </tr>\n",
       "    <tr>\n",
       "      <th>4</th>\n",
       "      <td>ham</td>\n",
       "      <td>even brother like speak treat like aid patent</td>\n",
       "    </tr>\n",
       "  </tbody>\n",
       "</table>\n",
       "</div>"
      ],
      "text/plain": [
       "  Labels                                            Message\n",
       "0    ham  go jurong point crazy available bugis n great ...\n",
       "1    ham                            ok lar joking wif u oni\n",
       "2    ham                u dun say early hor u c already say\n",
       "3    ham                nah think go usf life around though\n",
       "4    ham      even brother like speak treat like aid patent"
      ]
     },
     "execution_count": 15,
     "metadata": {},
     "output_type": "execute_result"
    }
   ],
   "source": [
    "dataset = ham.append(spam, ignore_index=True)\n",
    "dataset.head()"
   ]
  },
  {
   "cell_type": "code",
   "execution_count": 16,
   "id": "a00c2999",
   "metadata": {},
   "outputs": [
    {
     "data": {
      "text/html": [
       "<div>\n",
       "<style scoped>\n",
       "    .dataframe tbody tr th:only-of-type {\n",
       "        vertical-align: middle;\n",
       "    }\n",
       "\n",
       "    .dataframe tbody tr th {\n",
       "        vertical-align: top;\n",
       "    }\n",
       "\n",
       "    .dataframe thead th {\n",
       "        text-align: right;\n",
       "    }\n",
       "</style>\n",
       "<table border=\"1\" class=\"dataframe\">\n",
       "  <thead>\n",
       "    <tr style=\"text-align: right;\">\n",
       "      <th></th>\n",
       "      <th>Labels</th>\n",
       "      <th>Message</th>\n",
       "    </tr>\n",
       "  </thead>\n",
       "  <tbody>\n",
       "    <tr>\n",
       "      <th>9629</th>\n",
       "      <td>spam</td>\n",
       "      <td>cash prize claim call c rstm sw s ppm</td>\n",
       "    </tr>\n",
       "    <tr>\n",
       "      <th>9630</th>\n",
       "      <td>spam</td>\n",
       "      <td>urgent ur guaranteed award still unclaimed cal...</td>\n",
       "    </tr>\n",
       "    <tr>\n",
       "      <th>9631</th>\n",
       "      <td>spam</td>\n",
       "      <td>chosen receive award pls call claim number col...</td>\n",
       "    </tr>\n",
       "    <tr>\n",
       "      <th>9632</th>\n",
       "      <td>spam</td>\n",
       "      <td>please call customer service representative fr...</td>\n",
       "    </tr>\n",
       "    <tr>\n",
       "      <th>9633</th>\n",
       "      <td>spam</td>\n",
       "      <td>free entry wkly comp win fa cup final tkts st ...</td>\n",
       "    </tr>\n",
       "  </tbody>\n",
       "</table>\n",
       "</div>"
      ],
      "text/plain": [
       "     Labels                                            Message\n",
       "9629   spam              cash prize claim call c rstm sw s ppm\n",
       "9630   spam  urgent ur guaranteed award still unclaimed cal...\n",
       "9631   spam  chosen receive award pls call claim number col...\n",
       "9632   spam  please call customer service representative fr...\n",
       "9633   spam  free entry wkly comp win fa cup final tkts st ..."
      ]
     },
     "execution_count": 16,
     "metadata": {},
     "output_type": "execute_result"
    }
   ],
   "source": [
    "dataset.tail()"
   ]
  },
  {
   "cell_type": "code",
   "execution_count": 19,
   "id": "b82d5cfe",
   "metadata": {},
   "outputs": [],
   "source": [
    "# split the data into training and testing for building model and for prediction\n",
    "\n",
    "from sklearn.model_selection import train_test_split\n",
    "x_train, x_test, y_train, y_test = train_test_split(dataset['Message'], dataset['Labels'],\n",
    "                                                   test_size=0.25, random_state=101)"
   ]
  },
  {
   "cell_type": "code",
   "execution_count": 20,
   "id": "1a2e36e7",
   "metadata": {},
   "outputs": [
    {
     "data": {
      "text/plain": [
       "3862     lem know swing pick free basically time semester\n",
       "8893                                                 tf p\n",
       "9090    dear xxxxxxx u invited xchat final attempt con...\n",
       "3956    hi engagement fixd lt gt th next month know re...\n",
       "8827    urgent mobile xxx bonus caller prize nd attemp...\n",
       "                              ...                        \n",
       "599                           k u also dont msg reply msg\n",
       "5695    bear pic nick tom pete dick fact type try gay ...\n",
       "8006    tell u call claim prize u enter ur mobile pers...\n",
       "1361          charge transfer charge withdraw anyhow like\n",
       "1547                                       bus leaf lt gt\n",
       "Name: Message, Length: 7225, dtype: object"
      ]
     },
     "execution_count": 20,
     "metadata": {},
     "output_type": "execute_result"
    }
   ],
   "source": [
    "x_train"
   ]
  },
  {
   "cell_type": "code",
   "execution_count": 21,
   "id": "0adb8287",
   "metadata": {},
   "outputs": [
    {
     "data": {
      "text/plain": [
       "3462                  gon na worry nothing give money use\n",
       "8889    hard live chat p min choose girl connect live ...\n",
       "8235                                         ringtoneking\n",
       "7156    free st week nokia tone ur mob every week txt ...\n",
       "1998                              apps class varaya elaya\n",
       "                              ...                        \n",
       "3899                                      project pa come\n",
       "7482    get official england poly ringtone colour flag...\n",
       "9071    free entry weekly comp chance win ipod txt pod...\n",
       "9512    tddnewsletter emc co uk game thedailydraw dear...\n",
       "1572         hello thanx taking call got job start monday\n",
       "Name: Message, Length: 2409, dtype: object"
      ]
     },
     "execution_count": 21,
     "metadata": {},
     "output_type": "execute_result"
    }
   ],
   "source": [
    "x_test"
   ]
  },
  {
   "cell_type": "code",
   "execution_count": null,
   "id": "fc3f6b72",
   "metadata": {},
   "outputs": [],
   "source": []
  },
  {
   "cell_type": "markdown",
   "id": "237ae631",
   "metadata": {},
   "source": [
    "# Building Classification Model"
   ]
  },
  {
   "cell_type": "code",
   "execution_count": 23,
   "id": "a0f044f5",
   "metadata": {},
   "outputs": [],
   "source": [
    "# Feature Extraction\n",
    "from sklearn.feature_extraction.text import TfidfVectorizer\n",
    "\n",
    "# RandomForestClassifier\n",
    "from sklearn.ensemble import RandomForestClassifier\n",
    "\n",
    "# combining both feature extraction and machine learning together by the help of Pipeline\n",
    "from sklearn.pipeline import Pipeline\n"
   ]
  },
  {
   "cell_type": "code",
   "execution_count": 24,
   "id": "83aed19e",
   "metadata": {},
   "outputs": [],
   "source": [
    "classifier = Pipeline([('tfidf', TfidfVectorizer()),\n",
    "                      ('classifier', RandomForestClassifier(n_estimators=100,criterion='gini'))])"
   ]
  },
  {
   "cell_type": "code",
   "execution_count": 25,
   "id": "82d7c427",
   "metadata": {},
   "outputs": [
    {
     "data": {
      "text/plain": [
       "Pipeline(steps=[('tfidf', TfidfVectorizer()),\n",
       "                ('classifier', RandomForestClassifier())])"
      ]
     },
     "execution_count": 25,
     "metadata": {},
     "output_type": "execute_result"
    }
   ],
   "source": [
    "classifier.fit(x_train, y_train)"
   ]
  },
  {
   "cell_type": "code",
   "execution_count": 26,
   "id": "d2eeb278",
   "metadata": {},
   "outputs": [],
   "source": [
    "y_pred_train = classifier.predict(x_train)\n",
    "y_pred_test = classifier.predict(x_test)"
   ]
  },
  {
   "cell_type": "code",
   "execution_count": 27,
   "id": "4ce8b6d6",
   "metadata": {},
   "outputs": [],
   "source": [
    "# Performance matrix\n",
    "from sklearn.metrics import confusion_matrix, classification_report, accuracy_score"
   ]
  },
  {
   "cell_type": "code",
   "execution_count": 28,
   "id": "51961f9a",
   "metadata": {},
   "outputs": [
    {
     "name": "stdout",
     "output_type": "stream",
     "text": [
      "[[3585    0]\n",
      " [   0 3640]]\n",
      "************************************************************************************************************************\n",
      "[[1232    0]\n",
      " [   0 1177]]\n"
     ]
    }
   ],
   "source": [
    "print(confusion_matrix(y_train, y_pred_train))\n",
    "print(\"************\"*10)\n",
    "print(confusion_matrix(y_test, y_pred_test))"
   ]
  },
  {
   "cell_type": "code",
   "execution_count": 29,
   "id": "c4625bcf",
   "metadata": {},
   "outputs": [
    {
     "name": "stdout",
     "output_type": "stream",
     "text": [
      "              precision    recall  f1-score   support\n",
      "\n",
      "         ham       1.00      1.00      1.00      3585\n",
      "        spam       1.00      1.00      1.00      3640\n",
      "\n",
      "    accuracy                           1.00      7225\n",
      "   macro avg       1.00      1.00      1.00      7225\n",
      "weighted avg       1.00      1.00      1.00      7225\n",
      "\n",
      "************************************************************************************************************************\n",
      "              precision    recall  f1-score   support\n",
      "\n",
      "         ham       1.00      1.00      1.00      1232\n",
      "        spam       1.00      1.00      1.00      1177\n",
      "\n",
      "    accuracy                           1.00      2409\n",
      "   macro avg       1.00      1.00      1.00      2409\n",
      "weighted avg       1.00      1.00      1.00      2409\n",
      "\n"
     ]
    }
   ],
   "source": [
    "print(classification_report(y_train, y_pred_train))\n",
    "print(\"************\"*10)\n",
    "print(classification_report(y_test, y_pred_test))"
   ]
  },
  {
   "cell_type": "code",
   "execution_count": 30,
   "id": "25aaa1f6",
   "metadata": {},
   "outputs": [
    {
     "name": "stdout",
     "output_type": "stream",
     "text": [
      "1.0\n",
      "************************************************************************************************************************\n",
      "1.0\n"
     ]
    }
   ],
   "source": [
    "print(accuracy_score(y_train, y_pred_train))\n",
    "print(\"************\"*10)\n",
    "print(accuracy_score(y_test, y_pred_test))"
   ]
  },
  {
   "cell_type": "code",
   "execution_count": 43,
   "id": "2e30d89a",
   "metadata": {},
   "outputs": [],
   "source": [
    "# check your model performance\n",
    "\n",
    "test1 = [\"Hi, can you please share the class notes what we discussed yesterday.\"]\n",
    "test2 = [\"Congratulation, You won a lottery ticket worth $1 Millons ! To claim call @1111111\"]\n",
    "test3 = [\"Click here 'www.glajsdlfjasld.com' to get yours prize money\"]\n",
    "test4 = ['please find the attached file for the review']\n",
    "test5 = [\"Get rich in less than a month once you click on the given link 'www.asdjf;lasdjfla.com' and share your account details\"]\n",
    "test6 = ['Your credit card is blocked']\n",
    "test7 = [\"You are lucky one! Congratulation, you will win 1 lakh rupees to click on the given link 'https.www.ggajdajsd.com'\"]\n",
    "test8 = ['your mobile no.  won the  first prize  worth 1 Cr']\n",
    "test9 = ['Share yours otp to unlock yours account']\n",
    "test10 = [\"sorry we don't have vacancy for your qualification.\"]"
   ]
  },
  {
   "cell_type": "code",
   "execution_count": 44,
   "id": "28c54b16",
   "metadata": {},
   "outputs": [
    {
     "name": "stdout",
     "output_type": "stream",
     "text": [
      "test1 ['ham']\n",
      "test2 ['spam']\n",
      "test3 ['spam']\n",
      "test4 ['ham']\n",
      "test5 ['spam']\n",
      "test6 ['ham']\n",
      "test7 ['spam']\n",
      "test8 ['spam']\n",
      "test9 ['ham']\n",
      "test10 ['ham']\n"
     ]
    }
   ],
   "source": [
    "print(\"test1\" , classifier.predict(test1))\n",
    "print(\"test2\" , classifier.predict(test2))\n",
    "print(\"test3\" , classifier.predict(test3))\n",
    "print(\"test4\" , classifier.predict(test4))\n",
    "print(\"test5\" , classifier.predict(test5))\n",
    "print(\"test6\" , classifier.predict(test6))\n",
    "print(\"test7\" , classifier.predict(test7))\n",
    "print(\"test8\" , classifier.predict(test8))\n",
    "print(\"test9\" , classifier.predict(test9))\n",
    "print(\"test10\" , classifier.predict(test10))"
   ]
  },
  {
   "cell_type": "code",
   "execution_count": null,
   "id": "484eff28",
   "metadata": {},
   "outputs": [],
   "source": []
  }
 ],
 "metadata": {
  "kernelspec": {
   "display_name": "Python 3 (ipykernel)",
   "language": "python",
   "name": "python3"
  },
  "language_info": {
   "codemirror_mode": {
    "name": "ipython",
    "version": 3
   },
   "file_extension": ".py",
   "mimetype": "text/x-python",
   "name": "python",
   "nbconvert_exporter": "python",
   "pygments_lexer": "ipython3",
   "version": "3.9.13"
  }
 },
 "nbformat": 4,
 "nbformat_minor": 5
}
